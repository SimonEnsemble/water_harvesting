{
 "cells": [
  {
   "cell_type": "code",
   "execution_count": 76,
   "id": "b91e02ea-12aa-446a-9cb1-f421717bd24d",
   "metadata": {
    "tags": []
   },
   "outputs": [],
   "source": [
    "import numpy as np \n",
    "import pandas as pd \n",
    "from matplotlib import pyplot as plt\n",
    "from scipy import interpolate"
   ]
  },
  {
   "cell_type": "code",
   "execution_count": 77,
   "id": "0401d193-c731-46d0-8e0a-c5a67e47fb4d",
   "metadata": {
    "tags": []
   },
   "outputs": [],
   "source": [
    "R = 8.314 # Sets R(gas constant) value in [J/(mol-K)]"
   ]
  },
  {
   "cell_type": "code",
   "execution_count": 78,
   "id": "c4d2ea94-d822-4318-9600-8c07fa4d4767",
   "metadata": {
    "tags": []
   },
   "outputs": [],
   "source": [
    "def read_ads_data(mof, temperature): # MOF name and temp data was recorded \n",
    "    ads_data = pd.read_csv('data/{}_{}C.csv'.format(mof, temperature)) # Reads the isotherm \n",
    "    \n",
    "    ads_data['P/P_0'] = ads_data['RH[%]'] / 100 # Converts the relative humidity to P/P_0\n",
    "    \n",
    "    ads_data[\"A\"] = -R * (temperature+273.15) * np.log(ads_data['P/P_0']) # Calculates Polanyi adsorption potential for every point on the graph \n",
    "\n",
    "    \n",
    "    ads_data = ads_data.drop(columns=['RH[%]']) # Gets rid of the Humidity column \n",
    "    return ads_data"
   ]
  },
  {
   "cell_type": "code",
   "execution_count": 79,
   "id": "5e4a6549-866f-46c8-8a28-f643dbdc2f07",
   "metadata": {
    "tags": []
   },
   "outputs": [],
   "source": [
    "# Reads all of the different temp MOF 801 isotherms \n",
    "ads_data_15 = read_ads_data('MOF_801',15)\n",
    "ads_data_25 = read_ads_data('MOF_801',25)\n",
    "ads_data_45 = read_ads_data('MOF_801',45)\n",
    "ads_data_65 = read_ads_data('MOF_801',65)\n",
    "ads_data_85 = read_ads_data('MOF_801',85)\n",
    "ads_data_105 = read_ads_data('MOF_801',105)\n",
    " \n",
    "#combined_df = pd.concat([ads_data_15, ads_data_25, ads_data_45, ads_data_65, ads_data_85,ads_data_105]) # Combines all MOF 801 data into a single dataframe "
   ]
  },
  {
   "cell_type": "code",
   "execution_count": 80,
   "id": "fd4a3995-e74c-4a25-b48c-9ef9acc3248a",
   "metadata": {
    "tags": []
   },
   "outputs": [],
   "source": [
    "# ads_data_25 = ads_data_25.sort_values('A') # Sorts the MOF 801 data by A values so it can be plotted and the curve can be calculated \n",
    "\n",
    "# n_of_A = interpolate.PchipInterpolator(ads_data_25['A'], ads_data_25['Water Uptake [kg kg-1]']) # Finds the equation of the characteristic curve "
   ]
  },
  {
   "cell_type": "code",
   "execution_count": 81,
   "id": "5dbe0cb3",
   "metadata": {},
   "outputs": [],
   "source": [
    "def characteristic_curve (ads_data): # does the above lines in a function \n",
    "\n",
    "    ads_data = ads_data.sort_values('A') # Sorts the MOF 801 data by A values so it can be plotted and the curve can be calculated \n",
    "\n",
    "    n_of_A = interpolate.PchipInterpolator(ads_data['A'], ads_data['Water Uptake [kg kg-1]']) # Finds the equation of the characteristic curve \n",
    "\n",
    "    return n_of_A"
   ]
  },
  {
   "cell_type": "code",
   "execution_count": 82,
   "id": "99fc801b-f0c8-4852-8557-e8929faea783",
   "metadata": {
    "tags": []
   },
   "outputs": [],
   "source": [
    "def calculate_water(T,P_over_P_0,n_of_A): # Given a T and P/P_0 (RH as a fraction of 1, not a percent) \n",
    "    A = -R * (T+273.15) * np.log(P_over_P_0) # Calculate the Polanyi potential \n",
    "    Rate_H2O = n_of_A(A) # Plot A on the characteristic curve and find the rate of water adsorption \n",
    "    \n",
    "    return(Rate_H2O.item()) # Return amount of water adsorption "
   ]
  },
  {
   "cell_type": "code",
   "execution_count": 83,
   "id": "49d1ea1e-1e8d-4266-b643-1880300b8ae8",
   "metadata": {
    "tags": []
   },
   "outputs": [],
   "source": [
    "#Source for weather data for Phoenix from 2020-2021\n",
    "#https://weathersight.io/timeseries\n",
    "\n",
    "df_weather = pd.read_csv('data/Phoenix_weather_edited_final.csv') # Import csv file that contains weather data "
   ]
  },
  {
   "cell_type": "code",
   "execution_count": 84,
   "id": "03547107-85cf-41e8-919a-68b28c18b2e6",
   "metadata": {
    "tags": []
   },
   "outputs": [],
   "source": [
    "def weekly_data(week): # Given a week find the weather data \n",
    "    \n",
    "    df_week = df_weather['Week'] == week # narrow the dataframe to the given week \n",
    "    T_high = df_weather[df_week]['T_max_mean[C]'].item() # looking into the weekly dataframe, pull data value \n",
    "    T_low = df_weather[df_week]['T_min_mean[C]'].item() # \"\"\n",
    "    Dewp_high = df_weather[df_week]['Max_dewp[C]'].item() # \"\" \n",
    "    Dewp_low = df_weather[df_week]['Min_dewp[C]'].item() # \"\"\n",
    "    \n",
    "    return T_high, T_low, Dewp_high, Dewp_low                        "
   ]
  },
  {
   "cell_type": "code",
   "execution_count": 85,
   "id": "1fc1abb6-fd63-4603-bf50-bd454f5921fb",
   "metadata": {
    "tags": []
   },
   "outputs": [],
   "source": [
    "#Find the saturated vapor pressure from temp and dewp \n",
    "#source for formula \n",
    "#https://www.weather.gov/media/epz/wxcalc/vaporPressure.pdf\n",
    "\n",
    "def pressure_calculations(T,T_dew): # Given a temperature and a dewpoint temp from the weather data \n",
    "    \n",
    "    P_0 = 6.11 * 10**((7.5*T)/(237.3+T)) #calculate saturation pressure \n",
    "    P = 6.11 * 10**((7.5*T_dew)/(237.3+T_dew)) # calculate actual pressure\n",
    "    P_over_P_0 = P/P_0 # calculate P/P_0, relative humidity as a fraction of 1 \n",
    "    \n",
    "    return P_over_P_0 # this should be the only value we need out of this function "
   ]
  },
  {
   "cell_type": "code",
   "execution_count": 86,
   "id": "666fc9b3-c75f-4047-aa26-9ab7309e838a",
   "metadata": {},
   "outputs": [],
   "source": [
    " \n",
    "def water_daily(week,kg_MOF,n_of_A): # find mass of water depending on weekly avg weather and mass MOF\n",
    "    \n",
    "    T_high, T_low, Dewp_high, Dewp_low = weekly_data(week) # extract weather data \n",
    "\n",
    "    \n",
    "    P_over_P_0_high = pressure_calculations(T_high, Dewp_high) # calculate humidity during daily high\n",
    "    \n",
    "    P_over_P_0_low = pressure_calculations(T_low, Dewp_low) # calculate humidity during daily low\n",
    "    \n",
    "    A_low = -R * (T_low+273.15) * np.log(P_over_P_0_high) # calculate polanyi potential during daily high\n",
    "    \n",
    "    A_high = -R * (T_high+273.15) * np.log(P_over_P_0_low) # calculate polanyi potential during daily low\n",
    "    \n",
    "    high_water = calculate_water(T_high, P_over_P_0_high,n_of_A)  # calculate adsorption value during daily high\n",
    "    \n",
    "    low_water = (calculate_water(T_low, P_over_P_0_low,n_of_A)) # calculate adsorption value during daily low (should be higher than during daily high)\n",
    "    \n",
    "    water_rate = low_water - high_water # compare the high and low values to find amount of water kicked off by MOF over the course of a day per kg MOF \n",
    "    \n",
    "    water_mass = water_rate * kg_MOF # multiply by kg MOF to find absolute mass of water produced per day under weekly avg conditions \n",
    "    \n",
    "    #print('The mass of water collected by the MOF per day during week', week, 'is',round(water_mass,4),'[kg/day]')\n",
    "\n",
    "    return water_mass, T_high, T_low"
   ]
  },
  {
   "cell_type": "code",
   "execution_count": 87,
   "id": "7b2c7b28-ceac-4264-9222-a11d6625cf62",
   "metadata": {
    "tags": []
   },
   "outputs": [],
   "source": [
    "# use water adsorption data and conditions to generate new isotherm curves by temp \n",
    "# given T, calculate all A and find ads point, then plot ads vs RH \n",
    "\n",
    "def new_isotherm(T,n_of_A):\n",
    "    \n",
    "    ads_values = []\n",
    "    RH_values = []\n",
    "    \n",
    "    for i in range(100):\n",
    "       \n",
    "        A = -R * (T+273.15) * np.log((i+1)/100) # calculates polanyi potential for given T at given P/P_0\n",
    "\n",
    "        ads = n_of_A(A).item() # finds ads value for given A value \n",
    "\n",
    "        RH__current = i+1\n",
    "\n",
    "        ads_values.append(ads) # add these adsorption values to a list \n",
    "\n",
    "        RH_values.append(RH__current)\n",
    "    \n",
    "    df_new_isotherm = pd.DataFrame(ads_values, columns=['Adsorption value [kg H2O / kg MOF]']) # create dataframe with the adsorption data \n",
    "\n",
    "    df_new_isotherm.insert(0,'Relative Humidity',RH_values) # add RH to the dataframe \n",
    "\n",
    "    # plots the new isotherm \n",
    "    plt.scatter(df_new_isotherm['Relative Humidity'], df_new_isotherm['Adsorption value [kg H2O / kg MOF]'], label = (T))\n",
    "    plt.xlabel('Relative Humidity [%]')\n",
    "    plt.ylabel('Adsorption value [kg H2O / kg MOF]')\n",
    "    plt.xlim(xmin=0)\n",
    "    plt.legend()\n",
    "    "
   ]
  },
  {
   "cell_type": "code",
   "execution_count": 88,
   "id": "4a6092fa-d22b-4bf5-9089-648a33c3c34d",
   "metadata": {},
   "outputs": [],
   "source": [
    "def Optimize_per_week(mof, data_temp, week, kg_MOF): # using MOF data at MOF name mof and data temperature temp, calculate water from given week and mass MOF\n",
    "\n",
    "    ads_data = read_ads_data(mof, data_temp) # pull the file and calculate A values \n",
    "\n",
    "    n_of_A = characteristic_curve(ads_data) # create characteristic curve \n",
    "\n",
    "    water_mass, T_high, T_low = water_daily(week,kg_MOF,n_of_A) # pull the water mass and high and low temps to see isotherms \n",
    "\n",
    "    new_isotherm(T_high, n_of_A) # view high temp isotherm \n",
    "    new_isotherm(T_low, n_of_A) # view low temp isotherm \n",
    "    plt.title('Difference in isotherms by daily high and low avg temp')\n",
    "\n",
    "\n",
    "    return water_mass # should be what is being optimized, changing kg_MOF for a given MOF and week  \n",
    "    \n",
    "\n",
    "    \n"
   ]
  },
  {
   "cell_type": "code",
   "execution_count": 89,
   "id": "d07eae8c",
   "metadata": {},
   "outputs": [
    {
     "data": {
      "text/plain": [
       "0.06579215152972459"
      ]
     },
     "execution_count": 89,
     "metadata": {},
     "output_type": "execute_result"
    },
    {
     "data": {
      "image/png": "[encoded data removed]",
      "text/plain": [
       "<Figure size 640x480 with 1 Axes>"
      ]
     },
     "metadata": {},
     "output_type": "display_data"
    }
   ],
   "source": [
    "Optimize_per_week('MOF_801',25,1,1)"
   ]
  },
  {
   "cell_type": "code",
   "execution_count": 90,
   "id": "632187ab",
   "metadata": {},
   "outputs": [],
   "source": []
  }
 ],
 "metadata": {
  "kernelspec": {
   "display_name": "Python 3 (ipykernel)",
   "language": "python",
   "name": "python3"
  },
  "language_info": {
   "codemirror_mode": {
    "name": "ipython",
    "version": 3
   },
   "file_extension": ".py",
   "mimetype": "text/x-python",
   "name": "python",
   "nbconvert_exporter": "python",
   "pygments_lexer": "ipython3",
   "version": "3.11.7"
  }
 },
 "nbformat": 4,
 "nbformat_minor": 5
}
