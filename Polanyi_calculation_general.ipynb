{
 "cells": [
  {
   "cell_type": "code",
   "execution_count": 34,
   "id": "b91e02ea-12aa-446a-9cb1-f421717bd24d",
   "metadata": {
    "tags": []
   },
   "outputs": [],
   "source": [
    "import numpy as np \n",
    "import pandas as pd \n",
    "from matplotlib import pyplot as plt\n",
    "from scipy import interpolate\n"
   ]
  },
  {
   "cell_type": "code",
   "execution_count": 35,
   "id": "0401d193-c731-46d0-8e0a-c5a67e47fb4d",
   "metadata": {
    "tags": []
   },
   "outputs": [],
   "source": [
    "R = 8.314 # Sets R(gas constant) value in [J/(mol-K)]"
   ]
  },
  {
   "cell_type": "code",
   "execution_count": 36,
   "id": "c4d2ea94-d822-4318-9600-8c07fa4d4767",
   "metadata": {
    "tags": []
   },
   "outputs": [],
   "source": [
    "def read_ads_data(mof, temperature): # MOF name and temp data was recorded \n",
    "    ads_data = pd.read_csv('data/{}_{}C.csv'.format(mof, temperature)) # Reads the isotherm \n",
    "    \n",
    "    if (ads_data['RH[%]'])[0] == 0:\n",
    "        ads_data = ads_data.drop(0) # Drops the first row if the first RH value is 0\n",
    "        ads_data = ads_data.reset_index(drop=True)\n",
    "\n",
    "    if ads_data['RH[%]'].iloc[-1] > 1:\n",
    "        ads_data['P/P_0'] = ads_data['RH[%]'] / 100  # Converts the relative humidity to P/P_0 (from % to decimal)\n",
    "    else:\n",
    "        ads_data['P/P_0'] = ads_data['RH[%]']  # Converts the relative humidity to P/P_0 (changes name )\n",
    "\n",
    "\n",
    "    ads_data[\"A\"] = -R * (temperature+273.15) * np.log(ads_data['P/P_0']) # Calculates Polanyi adsorption potential for every point on the graph \n",
    "    \n",
    "    ads_data = ads_data.drop(columns=['RH[%]']) # Gets rid of the Humidity column \n",
    "    return ads_data"
   ]
  },
  {
   "cell_type": "code",
   "execution_count": 37,
   "id": "5dbe0cb3",
   "metadata": {},
   "outputs": [],
   "source": [
    "def characteristic_curve (ads_data): # does the above lines in a function \n",
    "\n",
    "    ads_data = ads_data.sort_values('A') # Sorts the MOF 801 data by A values so it can be plotted and the curve can be calculated \n",
    "\n",
    "    n_of_A = interpolate.PchipInterpolator(ads_data['A'], ads_data['Water Uptake [kg kg-1]']) # Finds the equation of the characteristic curve \n",
    "\n",
    "    return n_of_A"
   ]
  },
  {
   "cell_type": "code",
   "execution_count": 38,
   "id": "99fc801b-f0c8-4852-8557-e8929faea783",
   "metadata": {
    "tags": []
   },
   "outputs": [],
   "source": [
    "def calculate_water(T,P_over_P_0,n_of_A): # Given a T and P/P_0 (RH as a fraction of 1, not a percent) \n",
    "    A = -R * (T+273.15) * np.log(P_over_P_0) # Calculate the Polanyi potential \n",
    "    Rate_H2O = n_of_A(A) # Plot A on the characteristic curve and find the rate of water adsorption \n",
    "    \n",
    "    return(Rate_H2O.item()) # Return amount of water adsorption "
   ]
  },
  {
   "cell_type": "code",
   "execution_count": 39,
   "id": "49d1ea1e-1e8d-4266-b643-1880300b8ae8",
   "metadata": {
    "tags": []
   },
   "outputs": [],
   "source": [
    "#Source for weather data for Phoenix from 2020-2021\n",
    "#https://weathersight.io/timeseries\n",
    "\n",
    "df_weather = pd.read_csv('data/Phoenix_weather_edited_final.csv') # Import csv file that contains weather data "
   ]
  },
  {
   "cell_type": "code",
   "execution_count": 40,
   "id": "03547107-85cf-41e8-919a-68b28c18b2e6",
   "metadata": {
    "tags": []
   },
   "outputs": [],
   "source": [
    "def weekly_data(week): # Given a week find the weather data \n",
    "    \n",
    "    df_week = df_weather['Week'] == week # narrow the dataframe to the given week \n",
    "    T_high = df_weather[df_week]['T_max_mean[C]'].item() # looking into the weekly dataframe, pull data value \n",
    "    T_low = df_weather[df_week]['T_min_mean[C]'].item() # \"\"\n",
    "    Dewp_high = df_weather[df_week]['Max_dewp[C]'].item() # \"\" \n",
    "    Dewp_low = df_weather[df_week]['Min_dewp[C]'].item() # \"\"\n",
    "    \n",
    "    return T_high, T_low, Dewp_high, Dewp_low                        "
   ]
  },
  {
   "cell_type": "code",
   "execution_count": 41,
   "id": "1fc1abb6-fd63-4603-bf50-bd454f5921fb",
   "metadata": {
    "tags": []
   },
   "outputs": [],
   "source": [
    "#Find the saturated vapor pressure from temp and dewp \n",
    "#source for formula \n",
    "#https://www.weather.gov/media/epz/wxcalc/vaporPressure.pdf\n",
    "\n",
    "def pressure_calculations(T,T_dew): # Given a temperature and a dewpoint temp from the weather data \n",
    "    \n",
    "    P_0 = 6.11 * 10**((7.5*T)/(237.3+T)) #calculate saturation pressure \n",
    "    P = 6.11 * 10**((7.5*T_dew)/(237.3+T_dew)) # calculate actual pressure\n",
    "    P_over_P_0 = P/P_0 # calculate P/P_0, relative humidity as a fraction of 1 \n",
    "    \n",
    "    return P_over_P_0 # this should be the only value we need out of this function "
   ]
  },
  {
   "cell_type": "code",
   "execution_count": 42,
   "id": "666fc9b3-c75f-4047-aa26-9ab7309e838a",
   "metadata": {},
   "outputs": [],
   "source": [
    " \n",
    "def water_daily(week,kg_MOF,n_of_A): # find mass of water depending on weekly avg weather and mass MOF\n",
    "    \n",
    "    T_high, T_low, Dewp_high, Dewp_low = weekly_data(week) # extract weather data \n",
    "\n",
    "    \n",
    "    P_over_P_0_high = pressure_calculations(T_high, Dewp_high) # calculate humidity during daily high\n",
    "    \n",
    "    P_over_P_0_low = pressure_calculations(T_low, Dewp_low) # calculate humidity during daily low\n",
    "    \n",
    "    A_low = -R * (T_low+273.15) * np.log(P_over_P_0_high) # calculate polanyi potential during daily high\n",
    "    \n",
    "    A_high = -R * (T_high+273.15) * np.log(P_over_P_0_low) # calculate polanyi potential during daily low\n",
    "    \n",
    "    high_water = calculate_water(T_high, P_over_P_0_high,n_of_A)  # calculate adsorption value during daily high\n",
    "    \n",
    "    low_water = (calculate_water(T_low, P_over_P_0_low,n_of_A)) # calculate adsorption value during daily low (should be higher than during daily high)\n",
    "    \n",
    "    water_rate = low_water - high_water # compare the high and low values to find amount of water kicked off by MOF over the course of a day per kg MOF \n",
    "    \n",
    "    water_mass = water_rate * kg_MOF # multiply by kg MOF to find absolute mass of water produced per day under weekly avg conditions \n",
    "    \n",
    "    #print('The mass of water collected by the MOF per day during week', week, 'is',round(water_mass,4),'[kg/day]')\n",
    "\n",
    "    return water_mass, T_high, T_low"
   ]
  },
  {
   "cell_type": "code",
   "execution_count": 44,
   "id": "4a6092fa-d22b-4bf5-9089-648a33c3c34d",
   "metadata": {},
   "outputs": [],
   "source": [
    "def Calculate_mass(mof, data_temp, week, kg_MOF): # using MOF data at MOF name mof and data temperature temp, calculate water from given week and mass MOF\n",
    "\n",
    "    ads_data = read_ads_data(mof, data_temp) # pull the file and calculate A values \n",
    "\n",
    "    n_of_A = characteristic_curve(ads_data) # create characteristic curve \n",
    "\n",
    "    water_mass, T_high, T_low = water_daily(week,kg_MOF,n_of_A) # pull the water mass and high and low temps to see isotherms \n",
    "\n",
    "    #new_isotherm(T_high, n_of_A) # view high temp isotherm \n",
    "    #new_isotherm(T_low, n_of_A) # view low temp isotherm \n",
    "    #plt.title('Difference in isotherms by daily high and low avg temp')\n",
    "\n",
    "\n",
    "    return water_mass # should be what is being optimized, changing kg_MOF for a given MOF and week  \n"
   ]
  },
  {
   "cell_type": "code",
   "execution_count": 48,
   "id": "fa9c3447",
   "metadata": {},
   "outputs": [],
   "source": [
    "# two optimization functions\n",
    "\n",
    "# one minimizes the total mass of MOF needed to produce a certain amount of water over a day (fixed output)\n",
    "\n",
    "# one maximizes the amount of water produced by a certain amount of MOF over a day (fixed input)"
   ]
  },
  {
   "cell_type": "code",
   "execution_count": 49,
   "id": "5e9b6c32",
   "metadata": {},
   "outputs": [
    {
     "data": {
      "text/html": [
       "<div>\n",
       "<style scoped>\n",
       "    .dataframe tbody tr th:only-of-type {\n",
       "        vertical-align: middle;\n",
       "    }\n",
       "\n",
       "    .dataframe tbody tr th {\n",
       "        vertical-align: top;\n",
       "    }\n",
       "\n",
       "    .dataframe thead th {\n",
       "        text-align: right;\n",
       "    }\n",
       "</style>\n",
       "<table border=\"1\" class=\"dataframe\">\n",
       "  <thead>\n",
       "    <tr style=\"text-align: right;\">\n",
       "      <th></th>\n",
       "      <th>MOF</th>\n",
       "      <th>Data Temp</th>\n",
       "      <th>Water Mass [kg/day]</th>\n",
       "    </tr>\n",
       "  </thead>\n",
       "  <tbody>\n",
       "    <tr>\n",
       "      <th>0</th>\n",
       "      <td>DUT_67</td>\n",
       "      <td>20</td>\n",
       "      <td>NaN</td>\n",
       "    </tr>\n",
       "    <tr>\n",
       "      <th>1</th>\n",
       "      <td>MOF_801</td>\n",
       "      <td>25</td>\n",
       "      <td>NaN</td>\n",
       "    </tr>\n",
       "    <tr>\n",
       "      <th>2</th>\n",
       "      <td>MOF_802</td>\n",
       "      <td>20</td>\n",
       "      <td>NaN</td>\n",
       "    </tr>\n",
       "    <tr>\n",
       "      <th>3</th>\n",
       "      <td>MOF_804</td>\n",
       "      <td>20</td>\n",
       "      <td>NaN</td>\n",
       "    </tr>\n",
       "    <tr>\n",
       "      <th>4</th>\n",
       "      <td>MOF_805</td>\n",
       "      <td>20</td>\n",
       "      <td>NaN</td>\n",
       "    </tr>\n",
       "    <tr>\n",
       "      <th>5</th>\n",
       "      <td>MOF_806</td>\n",
       "      <td>20</td>\n",
       "      <td>NaN</td>\n",
       "    </tr>\n",
       "    <tr>\n",
       "      <th>6</th>\n",
       "      <td>MOF_808</td>\n",
       "      <td>20</td>\n",
       "      <td>NaN</td>\n",
       "    </tr>\n",
       "    <tr>\n",
       "      <th>7</th>\n",
       "      <td>MOF_841</td>\n",
       "      <td>20</td>\n",
       "      <td>NaN</td>\n",
       "    </tr>\n",
       "    <tr>\n",
       "      <th>8</th>\n",
       "      <td>PIZOF_2</td>\n",
       "      <td>20</td>\n",
       "      <td>NaN</td>\n",
       "    </tr>\n",
       "    <tr>\n",
       "      <th>9</th>\n",
       "      <td>UiO_66</td>\n",
       "      <td>20</td>\n",
       "      <td>NaN</td>\n",
       "    </tr>\n",
       "  </tbody>\n",
       "</table>\n",
       "</div>"
      ],
      "text/plain": [
       "       MOF  Data Temp Water Mass [kg/day]\n",
       "0   DUT_67         20                 NaN\n",
       "1  MOF_801         25                 NaN\n",
       "2  MOF_802         20                 NaN\n",
       "3  MOF_804         20                 NaN\n",
       "4  MOF_805         20                 NaN\n",
       "5  MOF_806         20                 NaN\n",
       "6  MOF_808         20                 NaN\n",
       "7  MOF_841         20                 NaN\n",
       "8  PIZOF_2         20                 NaN\n",
       "9   UiO_66         20                 NaN"
      ]
     },
     "execution_count": 49,
     "metadata": {},
     "output_type": "execute_result"
    }
   ],
   "source": [
    "columns = ['MOF','Data Temp', 'Water Mass [kg/day]']\n",
    "MOF = ['DUT_67', 'MOF_801', 'MOF_802', 'MOF_804', 'MOF_805', 'MOF_806', 'MOF_808', 'MOF_841', 'PIZOF_2', 'UiO_66']\n",
    "Data_temp = [20, 25, 20, 20, 20, 20, 20 ,20, 20, 20]\n",
    "\n",
    "df = pd.DataFrame(columns=columns)\n",
    "df['MOF'] = MOF\n",
    "df['Data Temp'] = Data_temp\n",
    "df"
   ]
  },
  {
   "cell_type": "code",
   "execution_count": 58,
   "id": "ee07e79d",
   "metadata": {},
   "outputs": [],
   "source": [
    "def Optimize(week): # optimize the mass of MOF needed to produce a certain amount of water over a day (fixed output)\n",
    "\n",
    "    water_mass_values = []\n",
    "\n",
    "    kg_MOF = 0.1 # starting guess mass of each MOF \n",
    "\n",
    "    for i in range(len(df['MOF'])): # for each MOF in the dataframe find the amount of water produced over a day\n",
    "        water_mass_MOF_i = Calculate_mass(df['MOF'][i], df['Data Temp'][i], week, kg_MOF)\n",
    "        water_mass_values.append(water_mass_MOF_i)\n",
    "\n",
    "    df['Water Mass [kg/day]'] = water_mass_values\n",
    "    \n",
    "    # m = 3.7 mass of water needed per day for a human [kg]\n",
    "\n",
    "    #m = sum(water_mass_values) # find the difference between the water produced and the water needed\n",
    "        \n",
    "    return df\n"
   ]
  },
  {
   "cell_type": "code",
   "execution_count": 59,
   "id": "92bb3d70",
   "metadata": {},
   "outputs": [
    {
     "data": {
      "text/html": [
       "<div>\n",
       "<style scoped>\n",
       "    .dataframe tbody tr th:only-of-type {\n",
       "        vertical-align: middle;\n",
       "    }\n",
       "\n",
       "    .dataframe tbody tr th {\n",
       "        vertical-align: top;\n",
       "    }\n",
       "\n",
       "    .dataframe thead th {\n",
       "        text-align: right;\n",
       "    }\n",
       "</style>\n",
       "<table border=\"1\" class=\"dataframe\">\n",
       "  <thead>\n",
       "    <tr style=\"text-align: right;\">\n",
       "      <th></th>\n",
       "      <th>MOF</th>\n",
       "      <th>Data Temp</th>\n",
       "      <th>Water Mass [kg/day]</th>\n",
       "    </tr>\n",
       "  </thead>\n",
       "  <tbody>\n",
       "    <tr>\n",
       "      <th>0</th>\n",
       "      <td>DUT_67</td>\n",
       "      <td>20</td>\n",
       "      <td>0.028645</td>\n",
       "    </tr>\n",
       "    <tr>\n",
       "      <th>1</th>\n",
       "      <td>MOF_801</td>\n",
       "      <td>25</td>\n",
       "      <td>0.006579</td>\n",
       "    </tr>\n",
       "    <tr>\n",
       "      <th>2</th>\n",
       "      <td>MOF_802</td>\n",
       "      <td>20</td>\n",
       "      <td>0.002667</td>\n",
       "    </tr>\n",
       "    <tr>\n",
       "      <th>3</th>\n",
       "      <td>MOF_804</td>\n",
       "      <td>20</td>\n",
       "      <td>0.028182</td>\n",
       "    </tr>\n",
       "    <tr>\n",
       "      <th>4</th>\n",
       "      <td>MOF_805</td>\n",
       "      <td>20</td>\n",
       "      <td>0.021641</td>\n",
       "    </tr>\n",
       "    <tr>\n",
       "      <th>5</th>\n",
       "      <td>MOF_806</td>\n",
       "      <td>20</td>\n",
       "      <td>0.005427</td>\n",
       "    </tr>\n",
       "    <tr>\n",
       "      <th>6</th>\n",
       "      <td>MOF_808</td>\n",
       "      <td>20</td>\n",
       "      <td>0.028473</td>\n",
       "    </tr>\n",
       "    <tr>\n",
       "      <th>7</th>\n",
       "      <td>MOF_841</td>\n",
       "      <td>20</td>\n",
       "      <td>0.024750</td>\n",
       "    </tr>\n",
       "    <tr>\n",
       "      <th>8</th>\n",
       "      <td>PIZOF_2</td>\n",
       "      <td>20</td>\n",
       "      <td>0.000546</td>\n",
       "    </tr>\n",
       "    <tr>\n",
       "      <th>9</th>\n",
       "      <td>UiO_66</td>\n",
       "      <td>20</td>\n",
       "      <td>0.032872</td>\n",
       "    </tr>\n",
       "  </tbody>\n",
       "</table>\n",
       "</div>"
      ],
      "text/plain": [
       "       MOF  Data Temp  Water Mass [kg/day]\n",
       "0   DUT_67         20             0.028645\n",
       "1  MOF_801         25             0.006579\n",
       "2  MOF_802         20             0.002667\n",
       "3  MOF_804         20             0.028182\n",
       "4  MOF_805         20             0.021641\n",
       "5  MOF_806         20             0.005427\n",
       "6  MOF_808         20             0.028473\n",
       "7  MOF_841         20             0.024750\n",
       "8  PIZOF_2         20             0.000546\n",
       "9   UiO_66         20             0.032872"
      ]
     },
     "execution_count": 59,
     "metadata": {},
     "output_type": "execute_result"
    }
   ],
   "source": [
    "Optimize(1)"
   ]
  },
  {
   "cell_type": "code",
   "execution_count": null,
   "id": "d0a661bf",
   "metadata": {},
   "outputs": [],
   "source": []
  },
  {
   "cell_type": "markdown",
   "id": "617a7884",
   "metadata": {},
   "source": [
    "## For viewing MOF graphs ##"
   ]
  },
  {
   "cell_type": "code",
   "execution_count": null,
   "id": "e70ef80f",
   "metadata": {},
   "outputs": [],
   "source": [
    "# use water adsorption data and conditions to generate new isotherm curves by temp \n",
    "# given T, calculate all A and find ads point, then plot ads vs RH \n",
    "\n",
    "def new_isotherm(T,n_of_A):\n",
    "    \n",
    "    ads_values = []\n",
    "    RH_values = []\n",
    "    \n",
    "    for i in range(100):\n",
    "       \n",
    "        A = -R * (T+273.15) * np.log((i+1)/100) # calculates polanyi potential for given T at given P/P_0\n",
    "\n",
    "        ads = n_of_A(A).item() # finds ads value for given A value \n",
    "\n",
    "        RH_current = i+1\n",
    "\n",
    "        ads_values.append(ads) # add these adsorption values to a list \n",
    "\n",
    "        RH_values.append(RH_current)\n",
    "    \n",
    "    df_new_isotherm = pd.DataFrame(ads_values, columns=['Adsorption value [kg H2O / kg MOF]']) # create dataframe with the adsorption data \n",
    "\n",
    "    df_new_isotherm.insert(0,'Relative Humidity',RH_values) # add RH to the dataframe \n",
    "\n",
    "    # plots the new isotherm \n",
    "    plt.scatter(df_new_isotherm['Relative Humidity'], df_new_isotherm['Adsorption value [kg H2O / kg MOF]'], label = (T))\n",
    "    plt.xlabel('Relative Humidity [%]')\n",
    "    plt.ylabel('Adsorption value [kg H2O / kg MOF]')\n",
    "    plt.xlim(xmin=0)\n",
    "    plt.legend()\n",
    "    "
   ]
  },
  {
   "cell_type": "code",
   "execution_count": null,
   "id": "102f8025",
   "metadata": {},
   "outputs": [],
   "source": [
    "def view_isotherm(mof, data_temp): # view isotherm for a given MOF and temperature \n",
    "    \n",
    "    ads_data = read_ads_data(mof, data_temp) # pull the file and calculate A values \n",
    "    \n",
    "    plt.title('Isotherm for {} at {}C'.format(mof, data_temp))\n",
    "    plt.scatter(ads_data['P/P_0'], ads_data['Water Uptake [kg kg-1]'])\n",
    "    plt.xlabel('P/P_0')\n",
    "    plt.ylabel('Water Uptake [kg/kg]')\n",
    "    \n",
    "    "
   ]
  },
  {
   "cell_type": "code",
   "execution_count": null,
   "id": "c66769e8",
   "metadata": {},
   "outputs": [],
   "source": [
    "def view_characteristic_curve(mof, data_temp): # view the characteristic curve for a given MOF and temperature \n",
    "    \n",
    "    ads_data = read_ads_data(mof, data_temp) # pull the file and calculate A values \n",
    "    \n",
    "    n_of_A = characteristic_curve(ads_data) # create characteristic curve \n",
    "    \n",
    "    \n",
    "    plt.scatter(ads_data['A'], ads_data['Water Uptake [kg kg-1]'])\n",
    "    plt.xlabel('A')\n",
    "    plt.ylabel('Water Uptake [kg/kg]')\n",
    "    plt.title('Characteristic curve for {} at {}C'.format(mof, data_temp))\n",
    "    plt.plot(ads_data['A'], n_of_A(ads_data['A']), label='Characteristic curve')"
   ]
  },
  {
   "cell_type": "code",
   "execution_count": null,
   "id": "756f2d53",
   "metadata": {},
   "outputs": [],
   "source": [
    "def view_mof (mof, data_temp): # view the isotherm and characteristic curve for a given MOF and temperature \n",
    "    \n",
    "    view_isotherm(mof, data_temp)\n",
    "    plt.show()\n",
    "    view_characteristic_curve(mof, data_temp)\n",
    "    plt.legend()"
   ]
  }
 ],
 "metadata": {
  "kernelspec": {
   "display_name": "Python 3 (ipykernel)",
   "language": "python",
   "name": "python3"
  },
  "language_info": {
   "codemirror_mode": {
    "name": "ipython",
    "version": 3
   },
   "file_extension": ".py",
   "mimetype": "text/x-python",
   "name": "python",
   "nbconvert_exporter": "python",
   "pygments_lexer": "ipython3",
   "version": "3.11.7"
  }
 },
 "nbformat": 4,
 "nbformat_minor": 5
}
