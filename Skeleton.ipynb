{
 "cells": [
  {
   "cell_type": "code",
   "execution_count": 1,
   "id": "b91e02ea-12aa-446a-9cb1-f421717bd24d",
   "metadata": {
    "tags": []
   },
   "outputs": [],
   "source": [
    "import numpy as np \n",
    "import pandas as pd \n",
    "from matplotlib import pyplot as plt\n",
    "from scipy import interpolate\n",
    "from scipy.optimize import curve_fit"
   ]
  },
  {
   "cell_type": "code",
   "execution_count": 2,
   "id": "0401d193-c731-46d0-8e0a-c5a67e47fb4d",
   "metadata": {
    "tags": []
   },
   "outputs": [],
   "source": [
    "R = 8.314 # Sets R(gas constant) value in [J/(mol-K)]"
   ]
  },
  {
   "cell_type": "code",
   "execution_count": 11,
   "id": "c4d2ea94-d822-4318-9600-8c07fa4d4767",
   "metadata": {
    "tags": []
   },
   "outputs": [],
   "source": [
    "def read_ads_data(mof, temperature): # MOF name and temp data was recorded \n",
    "    ads_data = pd.read_csv('data/{}_{}C.csv'.format(mof, temperature)) # Reads the isotherm \n",
    "    \n",
    "    ads_data['P/P_0'] = ads_data['RH[%]'] / 100 # Converts the relative humidity to P/P_0\n",
    "    \n",
    "    ads_data[\"A\"] = -R * (temperature+273.15) * np.log(ads_data['P/P_0']) # Calculates Polanyi adsorption potential for every point on the graph \n",
    "\n",
    "    \n",
    "    ads_data = ads_data.drop(columns=['RH[%]']) # Gets rid of the Humidity column \n",
    "    return ads_data"
   ]
  },
  {
   "cell_type": "code",
   "execution_count": 12,
   "id": "5e4a6549-866f-46c8-8a28-f643dbdc2f07",
   "metadata": {
    "tags": []
   },
   "outputs": [],
   "source": [
    "# Reads all of the different temp MOF 801 isotherms \n",
    "ads_data_15 = read_ads_data('MOF_801',15)\n",
    "ads_data_25 = read_ads_data('MOF_801',25)\n",
    "ads_data_45 = read_ads_data('MOF_801',45)\n",
    "ads_data_65 = read_ads_data('MOF_801',65)\n",
    "ads_data_85 = read_ads_data('MOF_801',85)\n",
    "ads_data_105 = read_ads_data('MOF_801',105)\n",
    " \n",
    "combined_df = pd.concat([ads_data_15, ads_data_25, ads_data_45, ads_data_65, ads_data_85,ads_data_105]) # Combines all MOF 801 data into a single dataframe "
   ]
  },
  {
   "cell_type": "code",
   "execution_count": 13,
   "id": "fd4a3995-e74c-4a25-b48c-9ef9acc3248a",
   "metadata": {
    "tags": []
   },
   "outputs": [],
   "source": [
    "combined_df_sorted = combined_df.sort_values('A') # Sorts the MOF 801 data by A values so it can be plotted and the curve can be calculated "
   ]
  },
  {
   "cell_type": "code",
   "execution_count": 14,
   "id": "b4870382-2311-4124-bfc1-5564dd0fe5cf",
   "metadata": {
    "tags": []
   },
   "outputs": [],
   "source": [
    "# NOT HAPPY WITH THIS STEP \n",
    "n_of_A = interpolate.CubicSpline(combined_df_sorted['A'], combined_df_sorted['Water Uptake [kg kg-1]']) # Finds the equation of the characteristic curve "
   ]
  },
  {
   "cell_type": "code",
   "execution_count": 15,
   "id": "99fc801b-f0c8-4852-8557-e8929faea783",
   "metadata": {
    "tags": []
   },
   "outputs": [],
   "source": [
    "#RH in % here \n",
    "def calculate_water(T,P_over_P_0):\n",
    "    A = -R * (T+273.15) * np.log(P_over_P_0)\n",
    "    Rate_H2O = n_of_A(A)\n",
    "    \n",
    "    return(Rate_H2O.item())"
   ]
  },
  {
   "cell_type": "code",
   "execution_count": 16,
   "id": "49d1ea1e-1e8d-4266-b643-1880300b8ae8",
   "metadata": {
    "tags": []
   },
   "outputs": [],
   "source": [
    "#Source for weather data \n",
    "#https://weathersight.io/timeseries\n",
    "#For Phoenix from 2020-2021\n",
    "df_weather = pd.read_csv('data/Phoenix_weather_edited_final.csv')"
   ]
  },
  {
   "cell_type": "code",
   "execution_count": 17,
   "id": "03547107-85cf-41e8-919a-68b28c18b2e6",
   "metadata": {
    "tags": []
   },
   "outputs": [],
   "source": [
    "#Need a function that pulls the weekly data out of the dataframe \n",
    "def weekly_data(week):\n",
    "    \n",
    "    df_week = df_weather['Week'] == week\n",
    "    T_high = df_weather[df_week]['T_max_mean[C]'].item()\n",
    "    T_low = df_weather[df_week]['T_min_mean[C]'].item()\n",
    "    Dewp_high = df_weather[df_week]['Max_dewp[C]'].item()\n",
    "    Dewp_low = df_weather[df_week]['Min_dewp[C]'].item()\n",
    "    \n",
    "    return T_high, T_low, Dewp_high, Dewp_low                        "
   ]
  },
  {
   "cell_type": "code",
   "execution_count": 7,
   "id": "1fc1abb6-fd63-4603-bf50-bd454f5921fb",
   "metadata": {
    "tags": []
   },
   "outputs": [],
   "source": [
    "#Find the saturated vapor pressure from temp and dewp \n",
    "#source for formula \n",
    "#https://www.weather.gov/media/epz/wxcalc/vaporPressure.pdf\n",
    "def pressure_calculations(T,T_dew):\n",
    "    \n",
    "    P_0 = 6.11 * 10**((7.5*T)/(237.3+T))\n",
    "    P = 6.11 * 10**((7.5*T_dew)/(237.3+T_dew))\n",
    "    P_over_P_0 = P/P_0\n",
    "    \n",
    "    return P_over_P_0"
   ]
  },
  {
   "cell_type": "code",
   "execution_count": 8,
   "id": "666fc9b3-c75f-4047-aa26-9ab7309e838a",
   "metadata": {},
   "outputs": [],
   "source": [
    "#Find mass of water depending on daily high and low, and mass MOF \n",
    "def water_daily(week,kg_MOF):\n",
    "    \n",
    "    T_high, T_low, Dewp_high, Dewp_low = weekly_data(week)\n",
    "    \n",
    "    P_over_P_0_high = pressure_calculations(T_high, Dewp_high)\n",
    "    \n",
    "    P_over_P_0_low = pressure_calculations(T_low, Dewp_low)\n",
    "    \n",
    "    A_low = -R * (T_low+273.15) * np.log(P_over_P_0_high/100)\n",
    "    \n",
    "    A_high = -R * (T_high+273.15) * np.log(P_over_P_0_low/100)\n",
    "    \n",
    "    high_water = calculate_water(T_high, P_over_P_0_high)\n",
    "    \n",
    "    low_water = (calculate_water(T_low, P_over_P_0_low))\n",
    "    \n",
    "    water_rate = low_water - high_water\n",
    "    \n",
    "    water_mass = water_rate * kg_MOF\n",
    "    \n",
    "    print('The mass of water collected by the MOF per day during week', week, 'is',round(water_mass,4),'[kg/day]')\n",
    "\n",
    "    return water_mass"
   ]
  },
  {
   "cell_type": "code",
   "execution_count": null,
   "id": "7b2c7b28-ceac-4264-9222-a11d6625cf62",
   "metadata": {
    "tags": []
   },
   "outputs": [
    {
     "name": "stdout",
     "output_type": "stream",
     "text": [
      "The mass of water collected by the MOF per day during week 11 is 0.044 [kg/day]\n"
     ]
    },
    {
     "data": {
      "text/plain": [
       "0.04395230171836606"
      ]
     },
     "execution_count": 94,
     "metadata": {},
     "output_type": "execute_result"
    }
   ],
   "source": [
    "water_daily(11,1)"
   ]
  },
  {
   "cell_type": "code",
   "execution_count": null,
   "id": "4a6092fa-d22b-4bf5-9089-648a33c3c34d",
   "metadata": {},
   "outputs": [],
   "source": []
  }
 ],
 "metadata": {
  "kernelspec": {
   "display_name": "Python 3 (ipykernel)",
   "language": "python",
   "name": "python3"
  },
  "language_info": {
   "codemirror_mode": {
    "name": "ipython",
    "version": 3
   },
   "file_extension": ".py",
   "mimetype": "text/x-python",
   "name": "python",
   "nbconvert_exporter": "python",
   "pygments_lexer": "ipython3",
   "version": "3.11.7"
  }
 },
 "nbformat": 4,
 "nbformat_minor": 5
}
